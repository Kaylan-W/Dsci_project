{
 "cells": [
  {
   "cell_type": "markdown",
   "id": "440db1ce-2a4f-4d83-a085-6a5ac3d44279",
   "metadata": {
    "tags": []
   },
   "source": [
    "<h1><span style='background:#FFADAD'> Factors Influencing Customer Purchase Frequency </span></h1>\n"
   ]
  },
  {
   "cell_type": "markdown",
   "id": "fabe4bcc-0b9c-4630-8f10-0f57bf2c420f",
   "metadata": {},
   "source": [
    "<h2><span style='background:#FFD6A5'>Introduction:</span></h2>"
   ]
  },
  {
   "cell_type": "markdown",
   "id": "496167e8-d2c0-466a-97d9-8bbefb6bf6db",
   "metadata": {
    "jupyter": {
     "source_hidden": true
    },
    "tags": []
   },
   "source": [
    "##### * Provide some relevant background information on the topic so that someone unfamiliar with it will be prepared to understand the rest of your proposal.\n",
    "##### * Clearly state the question you will try to answer with your project.\n",
    "##### * Identify and describe the dataset that will be used to answer the question."
   ]
  },
  {
   "cell_type": "markdown",
   "id": "a1a9078b-ba6d-4bd1-b44a-be997f0d8dce",
   "metadata": {
    "jp-MarkdownHeadingCollapsed": true,
    "tags": []
   },
   "source": [
    "<div style=\"text-align: justify\">\n",
    "Understanding customer behavior, particularly consumer purchase frequency, is crucial for businesses aiming to achieve success in competitive markets. Purchase frequency refers to the number of times a customer makes a purchase within a specific time period, such as a week, month, or year. By unraveling the factors that influence purchase frequency among different customer demographics, companies can gain valuable insights to shape their marketing strategies effectively and potentially enhance overall profitability. This project aims to explore the key factors that impact a customer's purchase frequency, specifically focusing on the variables of age, gender, education, and income. <br><br>To address this research question, we will utilize the Customer Spending Dataset obtained from Kaggle. The  dataset can be found on Kaggle using the link provided. This dataset includes the variables age, gender, education level, income, country of residence, purchase frequency, and spending amounts. Purchase frequency is quantified as the number of purchases made by a customer within a time period, ranging from 0.1 (least often) to 1.0 (most often)\n",
    " <br><br>The dataset consists of an equal proportion of male and female customers ages 18 and 65, with incomes ranging from \\$20,000 to \\$99,800. We will narrow down the dataset to use age, gender, education and income as the predictors for consumers' purchase frequency. By analyzing the relationships between age, gender, education, income, and purchase frequency, we aim to identify the significant predictors of purchase frequency and provide valuable insights for businesses seeking to optimize their marketing strategies.\n",
    "</div>\n",
    "\n",
    " \n",
    "> Dataset Link: https://www.kaggle.com/datasets/goyaladi/customer-spending-dataset \n"
   ]
  },
  {
   "cell_type": "markdown",
   "id": "6a544177-5aca-4606-a29d-b19592ad5c33",
   "metadata": {},
   "source": [
    "<h2><span style='background:#FDFFB6'>Preliminary Exploratory Data Analysis:</span></h2>"
   ]
  },
  {
   "cell_type": "markdown",
   "id": "ff3dd889-55b2-471b-96e5-94ef204daed9",
   "metadata": {
    "jupyter": {
     "source_hidden": true
    },
    "tags": []
   },
   "source": [
    "##### * Demonstrate that the dataset can be read from the web into R\n",
    "##### * Clean and wrangle your data into a tidy format\n",
    "##### * Using only training data, summarize the data in at least one table (this is exploratory data analysis). An example of a useful table could be one that reports the number of observations in each class, the means of the predictor variables you plan to use in your analysis and how many rows have missing data. \n",
    "##### * Using only training data, visualize the data with at least one plot relevant to the analysis you plan to do (this is exploratory data analysis). An example of a useful visualization could be one that compares the distributions of each of the predictor variables you plan to use in your analysis.\n"
   ]
  },
  {
   "cell_type": "code",
   "execution_count": 10,
   "id": "e4a938de-71a6-4cf8-a840-bfedc40bc99a",
   "metadata": {
    "collapsed": true,
    "jupyter": {
     "outputs_hidden": true
    },
    "tags": []
   },
   "outputs": [
    {
     "name": "stderr",
     "output_type": "stream",
     "text": [
      "── \u001b[1mAttaching packages\u001b[22m ────────────────────────────────────── tidymodels 1.0.0 ──\n",
      "\n",
      "\u001b[32m✔\u001b[39m \u001b[34mbroom       \u001b[39m 1.0.0     \u001b[32m✔\u001b[39m \u001b[34mrsample     \u001b[39m 1.0.0\n",
      "\u001b[32m✔\u001b[39m \u001b[34mdials       \u001b[39m 1.0.0     \u001b[32m✔\u001b[39m \u001b[34mtune        \u001b[39m 1.0.0\n",
      "\u001b[32m✔\u001b[39m \u001b[34minfer       \u001b[39m 1.0.2     \u001b[32m✔\u001b[39m \u001b[34mworkflows   \u001b[39m 1.0.0\n",
      "\u001b[32m✔\u001b[39m \u001b[34mmodeldata   \u001b[39m 1.0.0     \u001b[32m✔\u001b[39m \u001b[34mworkflowsets\u001b[39m 1.0.0\n",
      "\u001b[32m✔\u001b[39m \u001b[34mparsnip     \u001b[39m 1.0.0     \u001b[32m✔\u001b[39m \u001b[34myardstick   \u001b[39m 1.0.0\n",
      "\u001b[32m✔\u001b[39m \u001b[34mrecipes     \u001b[39m 1.0.1     \n",
      "\n",
      "── \u001b[1mConflicts\u001b[22m ───────────────────────────────────────── tidymodels_conflicts() ──\n",
      "\u001b[31m✖\u001b[39m \u001b[34mscales\u001b[39m::\u001b[32mdiscard()\u001b[39m masks \u001b[34mpurrr\u001b[39m::discard()\n",
      "\u001b[31m✖\u001b[39m \u001b[34mdplyr\u001b[39m::\u001b[32mfilter()\u001b[39m   masks \u001b[34mstats\u001b[39m::filter()\n",
      "\u001b[31m✖\u001b[39m \u001b[34mrecipes\u001b[39m::\u001b[32mfixed()\u001b[39m  masks \u001b[34mstringr\u001b[39m::fixed()\n",
      "\u001b[31m✖\u001b[39m \u001b[34mdplyr\u001b[39m::\u001b[32mlag()\u001b[39m      masks \u001b[34mstats\u001b[39m::lag()\n",
      "\u001b[31m✖\u001b[39m \u001b[34myardstick\u001b[39m::\u001b[32mspec()\u001b[39m masks \u001b[34mreadr\u001b[39m::spec()\n",
      "\u001b[31m✖\u001b[39m \u001b[34mrecipes\u001b[39m::\u001b[32mstep()\u001b[39m   masks \u001b[34mstats\u001b[39m::step()\n",
      "\u001b[34m•\u001b[39m Search for functions across packages at \u001b[32mhttps://www.tidymodels.org/find/\u001b[39m\n",
      "\n",
      "\u001b[1mRows: \u001b[22m\u001b[34m1000\u001b[39m \u001b[1mColumns: \u001b[22m\u001b[34m8\u001b[39m\n",
      "\u001b[36m──\u001b[39m \u001b[1mColumn specification\u001b[22m \u001b[36m────────────────────────────────────────────────────────\u001b[39m\n",
      "\u001b[1mDelimiter:\u001b[22m \",\"\n",
      "\u001b[31mchr\u001b[39m (4): name, gender, education, country\n",
      "\u001b[32mdbl\u001b[39m (4): age, income, purchase_frequency, spending\n",
      "\n",
      "\u001b[36mℹ\u001b[39m Use `spec()` to retrieve the full column specification for this data.\n",
      "\u001b[36mℹ\u001b[39m Specify the column types or set `show_col_types = FALSE` to quiet this message.\n"
     ]
    }
   ],
   "source": [
    "library(tidyverse)\n",
    "library(repr)\n",
    "library(tidymodels)\n",
    "\n",
    "set.seed(3456) \n",
    "data <- read_csv(\"https://raw.githubusercontent.com/Kaylan-W/Dsci_project/main/data/customer_data.csv\")\n",
    "#data"
   ]
  },
  {
   "cell_type": "code",
   "execution_count": 26,
   "id": "1212b563-47c9-4a62-a218-42a016f3c573",
   "metadata": {
    "tags": []
   },
   "outputs": [],
   "source": [
    "# The data will be tidied by removing unused columns and creating a categorical variable from the numerical\n",
    "# purchase_frequency column to aid with later classification.\n",
    "data_downsized<-select(data, -name, -spending, -country)\n",
    "breakpoints <- c(0, 0.25, 0.5, 0.75, 1)\n",
    "labels <- c(\"Very Low\", \"Low\", \"High\", \"Very High\")\n",
    "tidydata<- data_downsized %>% mutate(categories = cut(datatidy$purchase_frequency, \n",
    "                                                      breakpoints, labels = labels, include.lowest = TRUE))\n",
    "#tidydata\n",
    " \n",
    "# Before any further processing, the original dataset will be split into training and testing datasets.\n",
    "# 75% of the data will be put into the training set. \n",
    "data_split <- initial_split(tidydata, prop = 0.75, strata = categories)  \n",
    "train_split <- training(data_split)   \n",
    "#train_split\n",
    "test_split <- testing(data_split)\n",
    "#test_split\n",
    "\n"
   ]
  },
  {
   "cell_type": "code",
   "execution_count": 27,
   "id": "5271bfaa-5bd4-43d5-94db-1dcc8bd55d74",
   "metadata": {},
   "outputs": [
    {
     "data": {
      "text/html": [
       "<table class=\"dataframe\">\n",
       "<caption>A tibble: 4 × 2</caption>\n",
       "<thead>\n",
       "\t<tr><th scope=col>categories</th><th scope=col>count</th></tr>\n",
       "\t<tr><th scope=col>&lt;fct&gt;</th><th scope=col>&lt;int&gt;</th></tr>\n",
       "</thead>\n",
       "<tbody>\n",
       "\t<tr><td>Low      </td><td>221</td></tr>\n",
       "\t<tr><td>Very High</td><td>216</td></tr>\n",
       "\t<tr><td>High     </td><td>171</td></tr>\n",
       "\t<tr><td>Very Low </td><td>141</td></tr>\n",
       "</tbody>\n",
       "</table>\n"
      ],
      "text/latex": [
       "A tibble: 4 × 2\n",
       "\\begin{tabular}{ll}\n",
       " categories & count\\\\\n",
       " <fct> & <int>\\\\\n",
       "\\hline\n",
       "\t Low       & 221\\\\\n",
       "\t Very High & 216\\\\\n",
       "\t High      & 171\\\\\n",
       "\t Very Low  & 141\\\\\n",
       "\\end{tabular}\n"
      ],
      "text/markdown": [
       "\n",
       "A tibble: 4 × 2\n",
       "\n",
       "| categories &lt;fct&gt; | count &lt;int&gt; |\n",
       "|---|---|\n",
       "| Low       | 221 |\n",
       "| Very High | 216 |\n",
       "| High      | 171 |\n",
       "| Very Low  | 141 |\n",
       "\n"
      ],
      "text/plain": [
       "  categories count\n",
       "1 Low        221  \n",
       "2 Very High  216  \n",
       "3 High       171  \n",
       "4 Very Low   141  "
      ]
     },
     "metadata": {},
     "output_type": "display_data"
    }
   ],
   "source": [
    "# CODE FOR TABLE\n",
    "summary_table <- train_split |>\n",
    "   group_by(categories) |>\n",
    "   summarize(count = n()) |>\n",
    "   arrange(desc(count)) \n",
    "\n",
    "summary_table"
   ]
  },
  {
   "cell_type": "markdown",
   "id": "83899c83-7716-43a8-a448-c1c1f04ebcc5",
   "metadata": {},
   "source": [
    "<div style=\"text-align: justify\"> This table represents the number of observations present in the training set for each category of purchase frequency. The most common category is 'Low' while the least common category is 'Very Low'. The distribution of observations across these categories is sufficient for developing a classification model that may not be particularly biased to one category due to imbalanced training observations. <div>"
   ]
  },
  {
   "cell_type": "code",
   "execution_count": null,
   "id": "a1cfee57-eff3-436f-8077-0b38192e6fcf",
   "metadata": {},
   "outputs": [],
   "source": [
    "# CODE FOR PLOT"
   ]
  },
  {
   "cell_type": "markdown",
   "id": "b45a75bb-b484-47e7-bc70-1aebc15b1932",
   "metadata": {},
   "source": [
    "ANALYSIS OF PLOT"
   ]
  },
  {
   "cell_type": "markdown",
   "id": "239ee484-38b9-43a0-ab79-40ddbd3e7918",
   "metadata": {},
   "source": [
    "<h2><span style='background:#CAFFBF'>Methods:</span></h2>"
   ]
  },
  {
   "cell_type": "markdown",
   "id": "c79fe3f7-5c65-4793-8a09-a0293e4c76b0",
   "metadata": {
    "jupyter": {
     "source_hidden": true
    },
    "tags": []
   },
   "source": [
    "##### * Explain how you will conduct either your data analysis and which variables/columns you will use. Note - you do not need to use all variables/columns that exist in the raw data set. In fact, that's often not a good idea. For each variable think: is this a useful variable for prediction?\n",
    "##### * Describe at least one way that you will visualize the results.\n",
    "\n"
   ]
  },
  {
   "cell_type": "markdown",
   "id": "85535760-d942-4784-8d79-8f6ed80a5ffc",
   "metadata": {
    "jp-MarkdownHeadingCollapsed": true,
    "tags": []
   },
   "source": [
    "We are going to explore relationship between the variables age, gender, education and income and a customer's purchase frequency. \n",
    "To do this, we will:\n",
    "1. Represent purchase frequency as categories instead of numerical values. The categories will be:\n",
    "    - Very low (0.00-0.25)\n",
    "    - Low (0.25-0.50) \n",
    "    - High (0.50-0.75)   \n",
    "    - Very high (0.75 - 1.00)\n",
    "2. Create four separate k-nn classification models, each using only one variable as a predictor. \n",
    "3. Tune the number of neighbours used in order to obtain the optimal parameters for each of the four models.\n",
    "4. Calculate the accuracy of each model's predictions. \n",
    "5. Use visualizations to compare the accuracy of the four models. \n",
    "6. Determine which variable has the greatest influence on purchase frequency. \n",
    " \n",
    "We will create four scatter plots, each a single testing variable (age, gender and income) against purchase frequency. Side by side comparison will allow us to understand the effects of these variables independently. "
   ]
  },
  {
   "cell_type": "markdown",
   "id": "01e4f391-b7da-4715-b9b9-d860cd91a65a",
   "metadata": {},
   "source": [
    "<h2><span style='background:#9BF6FF'>Expected Outcomes and Significance:</span></h2>"
   ]
  },
  {
   "cell_type": "markdown",
   "id": "931c4269-ef8c-4eb5-a6d4-802d90ba1208",
   "metadata": {},
   "source": [
    "##### * What do you expect to find?\n",
    "##### * What impact could such findings have?\n",
    "##### * What future questions could this lead to?"
   ]
  },
  {
   "cell_type": "markdown",
   "id": "2c59539d-cc03-4a60-ac52-1e959852b889",
   "metadata": {
    "tags": []
   },
   "source": [
    "* We expect to find that people with higher income and age have a higher purchase frequency. \n",
    "* We also expect to find gender will not have an impact on purchase frequency.\n",
    "* These findings could impact how stores will go about marketing their products to people of different economic class' and demographics. The outcome of this data analysis could provide information on which customers a company should advertise towards. \n",
    "* Further questions could be asked to analyze which products these individuals with different demographical characteristcs (ex. higher income) prefer and how the advertising affects their purchase frequency.\n",
    "\n"
   ]
  }
 ],
 "metadata": {
  "kernelspec": {
   "display_name": "R",
   "language": "R",
   "name": "ir"
  },
  "language_info": {
   "codemirror_mode": "r",
   "file_extension": ".r",
   "mimetype": "text/x-r-source",
   "name": "R",
   "pygments_lexer": "r",
   "version": "4.1.3"
  }
 },
 "nbformat": 4,
 "nbformat_minor": 5
}
