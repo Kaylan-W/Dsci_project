{
 "cells": [
  {
   "cell_type": "markdown",
   "id": "440db1ce-2a4f-4d83-a085-6a5ac3d44279",
   "metadata": {
    "tags": []
   },
   "source": [
    "<h1><span style='background:#FFADAD'> Factors Influencing Customer Purchase Frequency </span></h1>\n"
   ]
  },
  {
   "cell_type": "markdown",
   "id": "fabe4bcc-0b9c-4630-8f10-0f57bf2c420f",
   "metadata": {},
   "source": [
    "<h2><span style='background:#FFD6A5'>Introduction:</span></h2>"
   ]
  },
  {
   "cell_type": "markdown",
   "id": "3f042625-2f60-41d8-bd78-32b69e11fdd0",
   "metadata": {},
   "source": [
    "<span style='color:#FE81BF'>\n",
    "Provide some relevant background information on the topic so that someone unfamiliar with it will be prepared to understand the rest of your report\n",
    "Clearly state the question you tried to answer with your project\n",
    "Identify and describe the dataset that was used to answer the question</span>"
   ]
  },
  {
   "cell_type": "markdown",
   "id": "a1a9078b-ba6d-4bd1-b44a-be997f0d8dce",
   "metadata": {
    "jp-MarkdownHeadingCollapsed": true,
    "tags": []
   },
   "source": [
    "<div style=\"text-align: justify\">\n",
    "Understanding customer behavior, particularly consumer purchase frequency, is crucial for businesses aiming to achieve success in competitive markets. Purchase frequency refers to the number of times a customer makes a purchase within a specific time period, such as a week, month, or year. By unraveling the factors that influence purchase frequency among different customer demographics, companies can gain valuable insights to shape their marketing strategies effectively and potentially enhance overall profitability. This project aims to explore the key factors that impact a customer's purchase frequency, specifically focusing on the variables of age, gender, education, and income. <br><br>To address this research question, we will utilize the Customer Spending Dataset obtained from Kaggle. The  dataset can be found on Kaggle using the link provided. This dataset includes the variables age, gender, education level, income, country of residence, purchase frequency, and spending amounts. Purchase frequency is quantified as the number of purchases made by a customer within a time period, ranging from 0.1 (least often) to 1.0 (most often)\n",
    " <br><br>The dataset consists of an equal proportion of male and female customers ages 18 and 65, with incomes ranging from \\$20,000 to \\$99,800. We will narrow down the dataset to use age, gender, education and income as the predictors for consumers' purchase frequency. By analyzing the relationships between age, gender, income, and purchase frequency, we aim to identify the significant predictors of purchase frequency and provide valuable insights for businesses seeking to optimize their marketing strategies.\n",
    "</div>\n",
    "\n",
    " \n",
    "> Dataset Link: https://www.kaggle.com/datasets/goyaladi/customer-spending-dataset \n"
   ]
  },
  {
   "cell_type": "markdown",
   "id": "6a544177-5aca-4606-a29d-b19592ad5c33",
   "metadata": {},
   "source": [
    "<h2><span style='background:#FDFFB6'>Preliminary Exploratory Data Analysis:</span></h2>"
   ]
  },
  {
   "cell_type": "code",
   "execution_count": 7,
   "id": "e4a938de-71a6-4cf8-a840-bfedc40bc99a",
   "metadata": {
    "collapsed": true,
    "jupyter": {
     "outputs_hidden": true,
     "source_hidden": true
    },
    "tags": []
   },
   "outputs": [
    {
     "name": "stderr",
     "output_type": "stream",
     "text": [
      "\u001b[1mRows: \u001b[22m\u001b[34m1000\u001b[39m \u001b[1mColumns: \u001b[22m\u001b[34m8\u001b[39m\n",
      "\u001b[36m──\u001b[39m \u001b[1mColumn specification\u001b[22m \u001b[36m────────────────────────────────────────────────────────\u001b[39m\n",
      "\u001b[1mDelimiter:\u001b[22m \",\"\n",
      "\u001b[31mchr\u001b[39m (4): name, gender, education, country\n",
      "\u001b[32mdbl\u001b[39m (4): age, income, purchase_frequency, spending\n",
      "\n",
      "\u001b[36mℹ\u001b[39m Use `spec()` to retrieve the full column specification for this data.\n",
      "\u001b[36mℹ\u001b[39m Specify the column types or set `show_col_types = FALSE` to quiet this message.\n"
     ]
    }
   ],
   "source": [
    "library(tidyverse)\n",
    "library(repr)\n",
    "library(tidymodels)\n",
    "\n",
    "set.seed(3456) \n",
    "data <- read_csv(\"https://raw.githubusercontent.com/Kaylan-W/Dsci_project/main/data/customer_data.csv\")\n",
    "#data"
   ]
  },
  {
   "cell_type": "code",
   "execution_count": 14,
   "id": "1212b563-47c9-4a62-a218-42a016f3c573",
   "metadata": {
    "collapsed": true,
    "jupyter": {
     "outputs_hidden": true,
     "source_hidden": true
    },
    "tags": []
   },
   "outputs": [
    {
     "data": {
      "text/html": [
       "<table class=\"dataframe\">\n",
       "<caption>A tibble: 749 × 5</caption>\n",
       "<thead>\n",
       "\t<tr><th scope=col>age</th><th scope=col>gender</th><th scope=col>income</th><th scope=col>purchase_frequency</th><th scope=col>pf_categories</th></tr>\n",
       "\t<tr><th scope=col>&lt;dbl&gt;</th><th scope=col>&lt;chr&gt;</th><th scope=col>&lt;dbl&gt;</th><th scope=col>&lt;dbl&gt;</th><th scope=col>&lt;fct&gt;</th></tr>\n",
       "</thead>\n",
       "<tbody>\n",
       "\t<tr><td>34</td><td>Male  </td><td>32225</td><td>0.7</td><td>High</td></tr>\n",
       "\t<tr><td>19</td><td>Female</td><td>48896</td><td>0.6</td><td>High</td></tr>\n",
       "\t<tr><td>56</td><td>Male  </td><td>31997</td><td>0.6</td><td>High</td></tr>\n",
       "\t<tr><td>22</td><td>Male  </td><td>59460</td><td>0.6</td><td>High</td></tr>\n",
       "\t<tr><td>48</td><td>Female</td><td>66812</td><td>0.7</td><td>High</td></tr>\n",
       "\t<tr><td>35</td><td>Male  </td><td>83154</td><td>0.6</td><td>High</td></tr>\n",
       "\t<tr><td>30</td><td>Male  </td><td>21930</td><td>0.7</td><td>High</td></tr>\n",
       "\t<tr><td>65</td><td>Female</td><td>77074</td><td>0.6</td><td>High</td></tr>\n",
       "\t<tr><td>39</td><td>Female</td><td>32282</td><td>0.6</td><td>High</td></tr>\n",
       "\t<tr><td>37</td><td>Female</td><td>59220</td><td>0.7</td><td>High</td></tr>\n",
       "\t<tr><td>24</td><td>Male  </td><td>82128</td><td>0.6</td><td>High</td></tr>\n",
       "\t<tr><td>55</td><td>Male  </td><td>30965</td><td>0.6</td><td>High</td></tr>\n",
       "\t<tr><td>52</td><td>Male  </td><td>64593</td><td>0.6</td><td>High</td></tr>\n",
       "\t<tr><td>20</td><td>Female</td><td>78797</td><td>0.6</td><td>High</td></tr>\n",
       "\t<tr><td>46</td><td>Female</td><td>79699</td><td>0.6</td><td>High</td></tr>\n",
       "\t<tr><td>45</td><td>Female</td><td>33731</td><td>0.7</td><td>High</td></tr>\n",
       "\t<tr><td>25</td><td>Female</td><td>65278</td><td>0.6</td><td>High</td></tr>\n",
       "\t<tr><td>60</td><td>Male  </td><td>58438</td><td>0.6</td><td>High</td></tr>\n",
       "\t<tr><td>26</td><td>Male  </td><td>67479</td><td>0.6</td><td>High</td></tr>\n",
       "\t<tr><td>65</td><td>Male  </td><td>59063</td><td>0.6</td><td>High</td></tr>\n",
       "\t<tr><td>21</td><td>Female</td><td>21104</td><td>0.7</td><td>High</td></tr>\n",
       "\t<tr><td>64</td><td>Female</td><td>46737</td><td>0.6</td><td>High</td></tr>\n",
       "\t<tr><td>60</td><td>Female</td><td>81953</td><td>0.7</td><td>High</td></tr>\n",
       "\t<tr><td>30</td><td>Male  </td><td>80410</td><td>0.6</td><td>High</td></tr>\n",
       "\t<tr><td>27</td><td>Female</td><td>88702</td><td>0.6</td><td>High</td></tr>\n",
       "\t<tr><td>26</td><td>Male  </td><td>78212</td><td>0.6</td><td>High</td></tr>\n",
       "\t<tr><td>37</td><td>Male  </td><td>66277</td><td>0.7</td><td>High</td></tr>\n",
       "\t<tr><td>49</td><td>Female</td><td>48235</td><td>0.6</td><td>High</td></tr>\n",
       "\t<tr><td>22</td><td>Female</td><td>99775</td><td>0.7</td><td>High</td></tr>\n",
       "\t<tr><td>53</td><td>Male  </td><td>45277</td><td>0.6</td><td>High</td></tr>\n",
       "\t<tr><td>⋮</td><td>⋮</td><td>⋮</td><td>⋮</td><td>⋮</td></tr>\n",
       "\t<tr><td>37</td><td>Male  </td><td>78285</td><td>0.1</td><td>Very Low</td></tr>\n",
       "\t<tr><td>56</td><td>Female</td><td>74277</td><td>0.1</td><td>Very Low</td></tr>\n",
       "\t<tr><td>55</td><td>Female</td><td>88051</td><td>0.1</td><td>Very Low</td></tr>\n",
       "\t<tr><td>37</td><td>Female</td><td>73179</td><td>0.1</td><td>Very Low</td></tr>\n",
       "\t<tr><td>23</td><td>Male  </td><td>90214</td><td>0.2</td><td>Very Low</td></tr>\n",
       "\t<tr><td>23</td><td>Male  </td><td>91482</td><td>0.1</td><td>Very Low</td></tr>\n",
       "\t<tr><td>24</td><td>Female</td><td>66151</td><td>0.1</td><td>Very Low</td></tr>\n",
       "\t<tr><td>32</td><td>Female</td><td>58522</td><td>0.1</td><td>Very Low</td></tr>\n",
       "\t<tr><td>29</td><td>Male  </td><td>23907</td><td>0.1</td><td>Very Low</td></tr>\n",
       "\t<tr><td>64</td><td>Male  </td><td>47834</td><td>0.1</td><td>Very Low</td></tr>\n",
       "\t<tr><td>63</td><td>Female</td><td>74625</td><td>0.1</td><td>Very Low</td></tr>\n",
       "\t<tr><td>33</td><td>Female</td><td>64200</td><td>0.2</td><td>Very Low</td></tr>\n",
       "\t<tr><td>60</td><td>Male  </td><td>71206</td><td>0.1</td><td>Very Low</td></tr>\n",
       "\t<tr><td>63</td><td>Male  </td><td>31248</td><td>0.2</td><td>Very Low</td></tr>\n",
       "\t<tr><td>58</td><td>Female</td><td>99016</td><td>0.1</td><td>Very Low</td></tr>\n",
       "\t<tr><td>32</td><td>Male  </td><td>33833</td><td>0.1</td><td>Very Low</td></tr>\n",
       "\t<tr><td>62</td><td>Female</td><td>78546</td><td>0.2</td><td>Very Low</td></tr>\n",
       "\t<tr><td>24</td><td>Male  </td><td>22397</td><td>0.1</td><td>Very Low</td></tr>\n",
       "\t<tr><td>56</td><td>Female</td><td>64790</td><td>0.2</td><td>Very Low</td></tr>\n",
       "\t<tr><td>47</td><td>Female</td><td>32318</td><td>0.2</td><td>Very Low</td></tr>\n",
       "\t<tr><td>46</td><td>Female</td><td>62523</td><td>0.1</td><td>Very Low</td></tr>\n",
       "\t<tr><td>21</td><td>Male  </td><td>88592</td><td>0.1</td><td>Very Low</td></tr>\n",
       "\t<tr><td>51</td><td>Male  </td><td>86267</td><td>0.2</td><td>Very Low</td></tr>\n",
       "\t<tr><td>54</td><td>Female</td><td>44343</td><td>0.1</td><td>Very Low</td></tr>\n",
       "\t<tr><td>43</td><td>Male  </td><td>30880</td><td>0.1</td><td>Very Low</td></tr>\n",
       "\t<tr><td>64</td><td>Male  </td><td>26324</td><td>0.1</td><td>Very Low</td></tr>\n",
       "\t<tr><td>44</td><td>Female</td><td>63465</td><td>0.1</td><td>Very Low</td></tr>\n",
       "\t<tr><td>65</td><td>Male  </td><td>25826</td><td>0.1</td><td>Very Low</td></tr>\n",
       "\t<tr><td>40</td><td>Male  </td><td>88912</td><td>0.2</td><td>Very Low</td></tr>\n",
       "\t<tr><td>56</td><td>Female</td><td>46752</td><td>0.1</td><td>Very Low</td></tr>\n",
       "</tbody>\n",
       "</table>\n"
      ],
      "text/latex": [
       "A tibble: 749 × 5\n",
       "\\begin{tabular}{lllll}\n",
       " age & gender & income & purchase\\_frequency & pf\\_categories\\\\\n",
       " <dbl> & <chr> & <dbl> & <dbl> & <fct>\\\\\n",
       "\\hline\n",
       "\t 34 & Male   & 32225 & 0.7 & High\\\\\n",
       "\t 19 & Female & 48896 & 0.6 & High\\\\\n",
       "\t 56 & Male   & 31997 & 0.6 & High\\\\\n",
       "\t 22 & Male   & 59460 & 0.6 & High\\\\\n",
       "\t 48 & Female & 66812 & 0.7 & High\\\\\n",
       "\t 35 & Male   & 83154 & 0.6 & High\\\\\n",
       "\t 30 & Male   & 21930 & 0.7 & High\\\\\n",
       "\t 65 & Female & 77074 & 0.6 & High\\\\\n",
       "\t 39 & Female & 32282 & 0.6 & High\\\\\n",
       "\t 37 & Female & 59220 & 0.7 & High\\\\\n",
       "\t 24 & Male   & 82128 & 0.6 & High\\\\\n",
       "\t 55 & Male   & 30965 & 0.6 & High\\\\\n",
       "\t 52 & Male   & 64593 & 0.6 & High\\\\\n",
       "\t 20 & Female & 78797 & 0.6 & High\\\\\n",
       "\t 46 & Female & 79699 & 0.6 & High\\\\\n",
       "\t 45 & Female & 33731 & 0.7 & High\\\\\n",
       "\t 25 & Female & 65278 & 0.6 & High\\\\\n",
       "\t 60 & Male   & 58438 & 0.6 & High\\\\\n",
       "\t 26 & Male   & 67479 & 0.6 & High\\\\\n",
       "\t 65 & Male   & 59063 & 0.6 & High\\\\\n",
       "\t 21 & Female & 21104 & 0.7 & High\\\\\n",
       "\t 64 & Female & 46737 & 0.6 & High\\\\\n",
       "\t 60 & Female & 81953 & 0.7 & High\\\\\n",
       "\t 30 & Male   & 80410 & 0.6 & High\\\\\n",
       "\t 27 & Female & 88702 & 0.6 & High\\\\\n",
       "\t 26 & Male   & 78212 & 0.6 & High\\\\\n",
       "\t 37 & Male   & 66277 & 0.7 & High\\\\\n",
       "\t 49 & Female & 48235 & 0.6 & High\\\\\n",
       "\t 22 & Female & 99775 & 0.7 & High\\\\\n",
       "\t 53 & Male   & 45277 & 0.6 & High\\\\\n",
       "\t ⋮ & ⋮ & ⋮ & ⋮ & ⋮\\\\\n",
       "\t 37 & Male   & 78285 & 0.1 & Very Low\\\\\n",
       "\t 56 & Female & 74277 & 0.1 & Very Low\\\\\n",
       "\t 55 & Female & 88051 & 0.1 & Very Low\\\\\n",
       "\t 37 & Female & 73179 & 0.1 & Very Low\\\\\n",
       "\t 23 & Male   & 90214 & 0.2 & Very Low\\\\\n",
       "\t 23 & Male   & 91482 & 0.1 & Very Low\\\\\n",
       "\t 24 & Female & 66151 & 0.1 & Very Low\\\\\n",
       "\t 32 & Female & 58522 & 0.1 & Very Low\\\\\n",
       "\t 29 & Male   & 23907 & 0.1 & Very Low\\\\\n",
       "\t 64 & Male   & 47834 & 0.1 & Very Low\\\\\n",
       "\t 63 & Female & 74625 & 0.1 & Very Low\\\\\n",
       "\t 33 & Female & 64200 & 0.2 & Very Low\\\\\n",
       "\t 60 & Male   & 71206 & 0.1 & Very Low\\\\\n",
       "\t 63 & Male   & 31248 & 0.2 & Very Low\\\\\n",
       "\t 58 & Female & 99016 & 0.1 & Very Low\\\\\n",
       "\t 32 & Male   & 33833 & 0.1 & Very Low\\\\\n",
       "\t 62 & Female & 78546 & 0.2 & Very Low\\\\\n",
       "\t 24 & Male   & 22397 & 0.1 & Very Low\\\\\n",
       "\t 56 & Female & 64790 & 0.2 & Very Low\\\\\n",
       "\t 47 & Female & 32318 & 0.2 & Very Low\\\\\n",
       "\t 46 & Female & 62523 & 0.1 & Very Low\\\\\n",
       "\t 21 & Male   & 88592 & 0.1 & Very Low\\\\\n",
       "\t 51 & Male   & 86267 & 0.2 & Very Low\\\\\n",
       "\t 54 & Female & 44343 & 0.1 & Very Low\\\\\n",
       "\t 43 & Male   & 30880 & 0.1 & Very Low\\\\\n",
       "\t 64 & Male   & 26324 & 0.1 & Very Low\\\\\n",
       "\t 44 & Female & 63465 & 0.1 & Very Low\\\\\n",
       "\t 65 & Male   & 25826 & 0.1 & Very Low\\\\\n",
       "\t 40 & Male   & 88912 & 0.2 & Very Low\\\\\n",
       "\t 56 & Female & 46752 & 0.1 & Very Low\\\\\n",
       "\\end{tabular}\n"
      ],
      "text/markdown": [
       "\n",
       "A tibble: 749 × 5\n",
       "\n",
       "| age &lt;dbl&gt; | gender &lt;chr&gt; | income &lt;dbl&gt; | purchase_frequency &lt;dbl&gt; | pf_categories &lt;fct&gt; |\n",
       "|---|---|---|---|---|\n",
       "| 34 | Male   | 32225 | 0.7 | High |\n",
       "| 19 | Female | 48896 | 0.6 | High |\n",
       "| 56 | Male   | 31997 | 0.6 | High |\n",
       "| 22 | Male   | 59460 | 0.6 | High |\n",
       "| 48 | Female | 66812 | 0.7 | High |\n",
       "| 35 | Male   | 83154 | 0.6 | High |\n",
       "| 30 | Male   | 21930 | 0.7 | High |\n",
       "| 65 | Female | 77074 | 0.6 | High |\n",
       "| 39 | Female | 32282 | 0.6 | High |\n",
       "| 37 | Female | 59220 | 0.7 | High |\n",
       "| 24 | Male   | 82128 | 0.6 | High |\n",
       "| 55 | Male   | 30965 | 0.6 | High |\n",
       "| 52 | Male   | 64593 | 0.6 | High |\n",
       "| 20 | Female | 78797 | 0.6 | High |\n",
       "| 46 | Female | 79699 | 0.6 | High |\n",
       "| 45 | Female | 33731 | 0.7 | High |\n",
       "| 25 | Female | 65278 | 0.6 | High |\n",
       "| 60 | Male   | 58438 | 0.6 | High |\n",
       "| 26 | Male   | 67479 | 0.6 | High |\n",
       "| 65 | Male   | 59063 | 0.6 | High |\n",
       "| 21 | Female | 21104 | 0.7 | High |\n",
       "| 64 | Female | 46737 | 0.6 | High |\n",
       "| 60 | Female | 81953 | 0.7 | High |\n",
       "| 30 | Male   | 80410 | 0.6 | High |\n",
       "| 27 | Female | 88702 | 0.6 | High |\n",
       "| 26 | Male   | 78212 | 0.6 | High |\n",
       "| 37 | Male   | 66277 | 0.7 | High |\n",
       "| 49 | Female | 48235 | 0.6 | High |\n",
       "| 22 | Female | 99775 | 0.7 | High |\n",
       "| 53 | Male   | 45277 | 0.6 | High |\n",
       "| ⋮ | ⋮ | ⋮ | ⋮ | ⋮ |\n",
       "| 37 | Male   | 78285 | 0.1 | Very Low |\n",
       "| 56 | Female | 74277 | 0.1 | Very Low |\n",
       "| 55 | Female | 88051 | 0.1 | Very Low |\n",
       "| 37 | Female | 73179 | 0.1 | Very Low |\n",
       "| 23 | Male   | 90214 | 0.2 | Very Low |\n",
       "| 23 | Male   | 91482 | 0.1 | Very Low |\n",
       "| 24 | Female | 66151 | 0.1 | Very Low |\n",
       "| 32 | Female | 58522 | 0.1 | Very Low |\n",
       "| 29 | Male   | 23907 | 0.1 | Very Low |\n",
       "| 64 | Male   | 47834 | 0.1 | Very Low |\n",
       "| 63 | Female | 74625 | 0.1 | Very Low |\n",
       "| 33 | Female | 64200 | 0.2 | Very Low |\n",
       "| 60 | Male   | 71206 | 0.1 | Very Low |\n",
       "| 63 | Male   | 31248 | 0.2 | Very Low |\n",
       "| 58 | Female | 99016 | 0.1 | Very Low |\n",
       "| 32 | Male   | 33833 | 0.1 | Very Low |\n",
       "| 62 | Female | 78546 | 0.2 | Very Low |\n",
       "| 24 | Male   | 22397 | 0.1 | Very Low |\n",
       "| 56 | Female | 64790 | 0.2 | Very Low |\n",
       "| 47 | Female | 32318 | 0.2 | Very Low |\n",
       "| 46 | Female | 62523 | 0.1 | Very Low |\n",
       "| 21 | Male   | 88592 | 0.1 | Very Low |\n",
       "| 51 | Male   | 86267 | 0.2 | Very Low |\n",
       "| 54 | Female | 44343 | 0.1 | Very Low |\n",
       "| 43 | Male   | 30880 | 0.1 | Very Low |\n",
       "| 64 | Male   | 26324 | 0.1 | Very Low |\n",
       "| 44 | Female | 63465 | 0.1 | Very Low |\n",
       "| 65 | Male   | 25826 | 0.1 | Very Low |\n",
       "| 40 | Male   | 88912 | 0.2 | Very Low |\n",
       "| 56 | Female | 46752 | 0.1 | Very Low |\n",
       "\n"
      ],
      "text/plain": [
       "    age gender income purchase_frequency pf_categories\n",
       "1   34  Male   32225  0.7                High         \n",
       "2   19  Female 48896  0.6                High         \n",
       "3   56  Male   31997  0.6                High         \n",
       "4   22  Male   59460  0.6                High         \n",
       "5   48  Female 66812  0.7                High         \n",
       "6   35  Male   83154  0.6                High         \n",
       "7   30  Male   21930  0.7                High         \n",
       "8   65  Female 77074  0.6                High         \n",
       "9   39  Female 32282  0.6                High         \n",
       "10  37  Female 59220  0.7                High         \n",
       "11  24  Male   82128  0.6                High         \n",
       "12  55  Male   30965  0.6                High         \n",
       "13  52  Male   64593  0.6                High         \n",
       "14  20  Female 78797  0.6                High         \n",
       "15  46  Female 79699  0.6                High         \n",
       "16  45  Female 33731  0.7                High         \n",
       "17  25  Female 65278  0.6                High         \n",
       "18  60  Male   58438  0.6                High         \n",
       "19  26  Male   67479  0.6                High         \n",
       "20  65  Male   59063  0.6                High         \n",
       "21  21  Female 21104  0.7                High         \n",
       "22  64  Female 46737  0.6                High         \n",
       "23  60  Female 81953  0.7                High         \n",
       "24  30  Male   80410  0.6                High         \n",
       "25  27  Female 88702  0.6                High         \n",
       "26  26  Male   78212  0.6                High         \n",
       "27  37  Male   66277  0.7                High         \n",
       "28  49  Female 48235  0.6                High         \n",
       "29  22  Female 99775  0.7                High         \n",
       "30  53  Male   45277  0.6                High         \n",
       "⋮   ⋮   ⋮      ⋮      ⋮                  ⋮            \n",
       "720 37  Male   78285  0.1                Very Low     \n",
       "721 56  Female 74277  0.1                Very Low     \n",
       "722 55  Female 88051  0.1                Very Low     \n",
       "723 37  Female 73179  0.1                Very Low     \n",
       "724 23  Male   90214  0.2                Very Low     \n",
       "725 23  Male   91482  0.1                Very Low     \n",
       "726 24  Female 66151  0.1                Very Low     \n",
       "727 32  Female 58522  0.1                Very Low     \n",
       "728 29  Male   23907  0.1                Very Low     \n",
       "729 64  Male   47834  0.1                Very Low     \n",
       "730 63  Female 74625  0.1                Very Low     \n",
       "731 33  Female 64200  0.2                Very Low     \n",
       "732 60  Male   71206  0.1                Very Low     \n",
       "733 63  Male   31248  0.2                Very Low     \n",
       "734 58  Female 99016  0.1                Very Low     \n",
       "735 32  Male   33833  0.1                Very Low     \n",
       "736 62  Female 78546  0.2                Very Low     \n",
       "737 24  Male   22397  0.1                Very Low     \n",
       "738 56  Female 64790  0.2                Very Low     \n",
       "739 47  Female 32318  0.2                Very Low     \n",
       "740 46  Female 62523  0.1                Very Low     \n",
       "741 21  Male   88592  0.1                Very Low     \n",
       "742 51  Male   86267  0.2                Very Low     \n",
       "743 54  Female 44343  0.1                Very Low     \n",
       "744 43  Male   30880  0.1                Very Low     \n",
       "745 64  Male   26324  0.1                Very Low     \n",
       "746 44  Female 63465  0.1                Very Low     \n",
       "747 65  Male   25826  0.1                Very Low     \n",
       "748 40  Male   88912  0.2                Very Low     \n",
       "749 56  Female 46752  0.1                Very Low     "
      ]
     },
     "metadata": {},
     "output_type": "display_data"
    }
   ],
   "source": [
    "# The data will be tidied by removing unused columns and creating a categorical variable from the numerical\n",
    "# purchase_frequency column to aid with later classification.\n",
    "data_downsized<- select(data, -name, -spending, -country, -education)\n",
    "breakpoints <- c(0, 0.25, 0.5, 0.75, 1)\n",
    "labels <- c(\"Very Low\", \"Low\", \"High\", \"Very High\")\n",
    "tidydata<- data_downsized %>% mutate(pf_categories = cut(data_downsized$purchase_frequency, \n",
    "                                                      breakpoints, labels = labels, include.lowest = TRUE))\n",
    "\n",
    " \n",
    "# Before any further processing, the original dataset will be split into training and testing datasets.\n",
    "# 75% of the data will be put into the training set. \n",
    "data_split <- initial_split(tidydata, prop = 0.75, strata = pf_categories)  \n",
    "train_split <- training(data_split)   \n",
    "#train_split\n",
    "test_split <- testing(data_split)\n",
    "#test_split\n",
    "\n",
    "train_split"
   ]
  },
  {
   "cell_type": "code",
   "execution_count": 15,
   "id": "5271bfaa-5bd4-43d5-94db-1dcc8bd55d74",
   "metadata": {
    "collapsed": true,
    "jupyter": {
     "outputs_hidden": true,
     "source_hidden": true
    },
    "tags": []
   },
   "outputs": [
    {
     "data": {
      "text/html": [
       "<table class=\"dataframe\">\n",
       "<caption>A tibble: 4 × 2</caption>\n",
       "<thead>\n",
       "\t<tr><th scope=col>pf_categories</th><th scope=col>count</th></tr>\n",
       "\t<tr><th scope=col>&lt;fct&gt;</th><th scope=col>&lt;int&gt;</th></tr>\n",
       "</thead>\n",
       "<tbody>\n",
       "\t<tr><td>Low      </td><td>221</td></tr>\n",
       "\t<tr><td>Very High</td><td>216</td></tr>\n",
       "\t<tr><td>High     </td><td>171</td></tr>\n",
       "\t<tr><td>Very Low </td><td>141</td></tr>\n",
       "</tbody>\n",
       "</table>\n"
      ],
      "text/latex": [
       "A tibble: 4 × 2\n",
       "\\begin{tabular}{ll}\n",
       " pf\\_categories & count\\\\\n",
       " <fct> & <int>\\\\\n",
       "\\hline\n",
       "\t Low       & 221\\\\\n",
       "\t Very High & 216\\\\\n",
       "\t High      & 171\\\\\n",
       "\t Very Low  & 141\\\\\n",
       "\\end{tabular}\n"
      ],
      "text/markdown": [
       "\n",
       "A tibble: 4 × 2\n",
       "\n",
       "| pf_categories &lt;fct&gt; | count &lt;int&gt; |\n",
       "|---|---|\n",
       "| Low       | 221 |\n",
       "| Very High | 216 |\n",
       "| High      | 171 |\n",
       "| Very Low  | 141 |\n",
       "\n"
      ],
      "text/plain": [
       "  pf_categories count\n",
       "1 Low           221  \n",
       "2 Very High     216  \n",
       "3 High          171  \n",
       "4 Very Low      141  "
      ]
     },
     "metadata": {},
     "output_type": "display_data"
    }
   ],
   "source": [
    "# CODE FOR TABLE\n",
    "summary_table <- train_split |>\n",
    "   group_by(pf_categories) |>\n",
    "   summarize(count = n()) |>\n",
    "   arrange(desc(count)) \n",
    "\n",
    "summary_table"
   ]
  },
  {
   "cell_type": "markdown",
   "id": "83899c83-7716-43a8-a448-c1c1f04ebcc5",
   "metadata": {
    "jupyter": {
     "source_hidden": true
    },
    "tags": []
   },
   "source": [
    "<div style=\"text-align: justify\"> This table represents the number of observations present in the training set for each category of purchase frequency. The most common category is 'Low' while the least common category is 'Very Low'. The distribution of observations across these categories is sufficient for developing a classification model that may not be particularly biased to one category due to imbalanced training observations. <div>"
   ]
  },
  {
   "cell_type": "code",
   "execution_count": 43,
   "id": "a1cfee57-eff3-436f-8077-0b38192e6fcf",
   "metadata": {
    "collapsed": true,
    "jupyter": {
     "outputs_hidden": true,
     "source_hidden": true
    },
    "tags": []
   },
   "outputs": [
    {
     "data": {
      "image/png": "[encoded data removed]",
      "text/plain": [
       "plot without title"
      ]
     },
     "metadata": {
      "image/png": {
       "height": 420,
       "width": 420
      }
     },
     "output_type": "display_data"
    }
   ],
   "source": [
    "gender_pf_premil <- ggplot(train_split, aes(x = pf_categories)) +\n",
    "  geom_bar(aes(fill = gender), position = \"dodge\") +\n",
    "  ggtitle(\"Customer gender against purchase frequency\") +\n",
    "  xlab(\"Purchase frequency category\") +\n",
    "  ylab(\"Number of customers\")\n",
    "\n",
    "gender_pf_premil\n"
   ]
  },
  {
   "cell_type": "markdown",
   "id": "b45a75bb-b484-47e7-bc70-1aebc15b1932",
   "metadata": {
    "jupyter": {
     "source_hidden": true
    },
    "tags": []
   },
   "source": [
    "As part of our analysis of the data we will be creating plots graphs with each of the predictior variables(age, gender and income) against purchase frequency (percentages) to visualize how these variables affect purchase frechency. The plot above the purchase frequency categories were further divided into gender categories. The number of customers in each of these categories were plotted. Here, we can compare the effects of gender within each of the categories. We see that there are few men in the very low purchase frequency range then women while there are more men in the low purchase frequency range."
   ]
  },
  {
   "cell_type": "markdown",
   "id": "239ee484-38b9-43a0-ab79-40ddbd3e7918",
   "metadata": {},
   "source": [
    "<h2><span style='background:#CAFFBF'>Methods & Results:</span></h2>"
   ]
  },
  {
   "cell_type": "markdown",
   "id": "9cc0d9fa-8236-427f-b0f6-93abc7ed21ad",
   "metadata": {},
   "source": [
    "<span style='color:#FE81BF'> Describe in written English the methods you used to perform your analysis from beginning to end that narrates the code the does the analysis. Your report should include code which:\n",
    "<br>1. loads data from the original source on the web \n",
    "<br>2. wrangles and cleans the data from it's original (downloaded) format to the format necessary for the planned analysis\n",
    "<br>3. performs a summary of the data set that is relevant for exploratory data analysis related to the planned analysis \n",
    "<br>4. creates a visualization of the dataset that is relevant for exploratory data analysis related to the planned analysis\n",
    "<br>5. performs the data analysis\n",
    "<br>6. creates a visualization of the analysis \n",
    "<br>7. note: all tables and figure should have a figure/table number and a legend </span>"
   ]
  },
  {
   "cell_type": "markdown",
   "id": "85535760-d942-4784-8d79-8f6ed80a5ffc",
   "metadata": {
    "jp-MarkdownHeadingCollapsed": true,
    "jupyter": {
     "source_hidden": true
    },
    "tags": []
   },
   "source": [
    "We are going to explore relationship between the variables age, gender, and income and a customer's purchase frequency. \n",
    "To do this, we will:\n",
    "1. Represent purchase frequency as categories instead of numerical values. The categories will be:\n",
    "    - Very low (0.00-0.25)\n",
    "    - Low (0.25-0.50) \n",
    "    - High (0.50-0.75)   \n",
    "    - Very high (0.75 - 1.00)\n",
    "2. Create three separate k-nn classification models, each using only one variable as a predictor. \n",
    "3. Tune the number of neighbours used in order to obtain the optimal parameters for each of the three models.\n",
    "4. Calculate the accuracy of each model's predictions. \n",
    "5. Use visualizations to compare the accuracy of the three models. \n",
    "6. Determine which variable has the greatest influence on purchase frequency. \n",
    " \n",
    "For the visualization aspect of our project we will create different plots, each graphing one of the predictor variables for our purchase frequency models (age, gender and income). An example of the plots we will create is given above. We plotted the number of customers within each gender and purchase frequency category. We will construct similar bar charts for age and income. While gender is easily separated into categories, age and income are continuous variables and we will need to make ranges of each of these to plot with purchase frequency categories in bars. Comparing these three plots will give us a visual idea of how each of the predictor variables independently affect purchase frequency."
   ]
  },
  {
   "cell_type": "markdown",
   "id": "01e4f391-b7da-4715-b9b9-d860cd91a65a",
   "metadata": {},
   "source": [
    "<h2><span style='background:#9BF6FF'>Discussion:</span></h2>"
   ]
  },
  {
   "cell_type": "markdown",
   "id": "2c59539d-cc03-4a60-ac52-1e959852b889",
   "metadata": {
    "tags": []
   },
   "source": [
    "<span style='color:#FE81BF'>\n",
    "<br>1. summarize what you found\n",
    "<br>2. discuss whether this is what you expected to find.\n",
    "<br>4. discuss what impact could such findings have.\n",
    "<br>5. discuss what future questions could this lead to. </span>\n",
    "\n"
   ]
  },
  {
   "cell_type": "markdown",
   "id": "04704b9f-2ffb-4280-a796-220d9cb1de5e",
   "metadata": {},
   "source": [
    "* We expect to find that people with higher income and age have a higher purchase frequency. \n",
    "* We also expect to find gender will not have an impact on purchase frequency.\n",
    "* These findings could impact how stores will go about marketing their products to people of different economic class' and demographics. The outcome of this data analysis could provide information on which customers a company should advertise towards. \n",
    "* Further questions could be asked to analyze which products these individuals with different demographical characteristcs (ex. higher income) prefer and how the advertising affects their purchase frequency."
   ]
  },
  {
   "cell_type": "markdown",
   "id": "47446597-b9a3-43fc-b8f5-327b926cd88a",
   "metadata": {},
   "source": [
    "<h2><span style='background:#CCB7E5'>References:</span></h2>"
   ]
  },
  {
   "cell_type": "markdown",
   "id": "907c7ec9-a580-490e-858e-b095031493e8",
   "metadata": {},
   "source": [
    "<span style='color:#FE81BF'>\n",
    "At least 2 citations of literature relevant to the project (format is your choice, just be consistent across the references).\n",
    "Make sure to cite the source of your data as well. </span>"
   ]
  },
  {
   "cell_type": "markdown",
   "id": "99671ed8-20c3-4fc0-8f4e-a2e9a9662970",
   "metadata": {},
   "source": [
    "1. www.\n",
    "2. www."
   ]
  }
 ],
 "metadata": {
  "kernelspec": {
   "display_name": "R",
   "language": "R",
   "name": "ir"
  },
  "language_info": {
   "codemirror_mode": "r",
   "file_extension": ".r",
   "mimetype": "text/x-r-source",
   "name": "R",
   "pygments_lexer": "r",
   "version": "4.1.3"
  }
 },
 "nbformat": 4,
 "nbformat_minor": 5
}
